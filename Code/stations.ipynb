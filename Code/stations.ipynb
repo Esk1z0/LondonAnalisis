{
 "cells": [
  {
   "cell_type": "code",
   "execution_count": 1,
   "metadata": {},
   "outputs": [],
   "source": [
    "import pandas as pd\n",
    "import geopandas as gpd\n",
    "import folium\n",
    "from shapely.geometry import Point\n",
    "from shapely.geometry import LineString\n",
    "from shapely.geometry import MultiLineString"
   ]
  },
  {
   "cell_type": "code",
   "execution_count": 2,
   "metadata": {},
   "outputs": [],
   "source": [
    "stations_dir = \"../Data/stations.csv\"\n",
    "lines_def_dir = \"../Data/lines_definition.csv\"\n",
    "route_dir = \"../Data/routes.csv\""
   ]
  },
  {
   "cell_type": "code",
   "execution_count": 3,
   "metadata": {},
   "outputs": [],
   "source": [
    "tube_df = pd.read_csv(stations_dir, index_col='id') #this file contains the name, zone, total lines and rail per station, also the zone it belongs in the metro system\n",
    "lines_df = pd.read_csv(lines_def_dir) #this file contains the conexions between each station\n",
    "routes_df = pd.read_csv(route_dir) #this file contains the info of each metro line, the number, the color and the stripe if it has"
   ]
  },
  {
   "attachments": {},
   "cell_type": "markdown",
   "metadata": {},
   "source": [
    "In the next cell I create a GeoDataFrame with the latitude and longitude as the geomatry column in the form of a shapely Point "
   ]
  },
  {
   "cell_type": "code",
   "execution_count": 4,
   "metadata": {},
   "outputs": [],
   "source": [
    "tube_df['geometry'] = None\n",
    "for index, row in tube_df.iterrows():\n",
    "    tube_df.loc[index, ['geometry']] = Point(row['latitude'], row['longitude'])\n",
    "tube_df.pop('latitude')\n",
    "tube_df.pop('longitude') #there's no need to keep doubleled data in the dataframe\n",
    "tube_df = gpd.GeoDataFrame(tube_df)"
   ]
  },
  {
   "attachments": {},
   "cell_type": "markdown",
   "metadata": {},
   "source": [
    "In the next cell we create a LineString for each conection between stations, so that later we can show the metro lsystem on the map"
   ]
  },
  {
   "cell_type": "code",
   "execution_count": 5,
   "metadata": {},
   "outputs": [],
   "source": [
    "lines_df['geometry'] = None\n",
    "\n",
    "for index, row in lines_df.iterrows(): \n",
    "    lines_df.loc[index, ['geometry']] = LineString([tube_df.loc[row.station1, ['geometry']].values[0], tube_df.loc[row.station2, ['geometry']].values[0]])"
   ]
  },
  {
   "attachments": {},
   "cell_type": "markdown",
   "metadata": {},
   "source": [
    "A little messy, baut in this next cell we concatenate each LineString in a MultilineString, just in case, to have all those conections in the routes geometry column"
   ]
  },
  {
   "cell_type": "code",
   "execution_count": 6,
   "metadata": {},
   "outputs": [],
   "source": [
    "routes_df['geometry'] = None\n",
    "\n",
    "for index, row in routes_df.iterrows():\n",
    "    lines_tube = lines_df.loc[lines_df['line'] == row[\"line\"], ['geometry']].values.tolist()\n",
    "    lines_aux = []\n",
    "    for n in lines_tube:\n",
    "        lines_aux.append(n.pop())\n",
    "    \n",
    "    routes_df.loc[index, ['geometry']] = MultiLineString(lines_aux)"
   ]
  },
  {
   "attachments": {},
   "cell_type": "markdown",
   "metadata": {},
   "source": [
    "Now we insert each line in a map with its colour and the stations in the form of circles with the zone it belongs represented by a colour"
   ]
  },
  {
   "cell_type": "code",
   "execution_count": 7,
   "metadata": {},
   "outputs": [],
   "source": [
    "def zone_color(zone):\n",
    "    zones = ['#006400' ,'#008000' ,'#00FF00' , #dark_green,  green,         light green\n",
    "             '#FFFF00' ,'#FFA500' ,'#FF4500' , #yellow,      orange-yellow, orange\n",
    "             '#FF3300' ,'#FF0000' ,'#8B0000']  #dark orange, light red,     dark red\n",
    "    return zones[zone-1]\n",
    "\n",
    "\n",
    "\n",
    "m_1 = folium.Map(location = [51.5074, -0.1278])\n",
    "\n",
    "for index, row in routes_df.iterrows():\n",
    "    colour = row.colour\n",
    "    for line in row.geometry.geoms:\n",
    "        folium.PolyLine(locations = list(line.coords), color = \"#\" + colour).add_to(m_1)\n",
    "    \n",
    "for index, row in tube_df.iterrows():\n",
    "    folium.Circle(location = row.geometry.coords[0],radius=5, color = zone_color(int(tube_df.loc[index, ['zone']].values.tolist()[0]))).add_to(m_1)"
   ]
  },
  {
   "cell_type": "code",
   "execution_count": null,
   "metadata": {},
   "outputs": [],
   "source": [
    "#Uncomment to show teh map on your browser\n",
    "#m_1.show_in_browser()"
   ]
  }
 ],
 "metadata": {
  "kernelspec": {
   "display_name": "Python 3",
   "language": "python",
   "name": "python3"
  },
  "language_info": {
   "codemirror_mode": {
    "name": "ipython",
    "version": 3
   },
   "file_extension": ".py",
   "mimetype": "text/x-python",
   "name": "python",
   "nbconvert_exporter": "python",
   "pygments_lexer": "ipython3",
   "version": "3.10.11"
  },
  "orig_nbformat": 4
 },
 "nbformat": 4,
 "nbformat_minor": 2
}
